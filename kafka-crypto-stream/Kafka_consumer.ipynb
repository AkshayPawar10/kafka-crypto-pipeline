{
 "cells": [
  {
   "cell_type": "code",
   "execution_count": 3,
   "id": "ba42a360",
   "metadata": {},
   "outputs": [
    {
     "name": "stdout",
     "output_type": "stream",
     "text": [
      "Collecting pyarrow\n",
      "  Downloading pyarrow-20.0.0-cp39-cp39-win_amd64.whl (25.8 MB)\n",
      "Installing collected packages: pyarrow\n",
      "Successfully installed pyarrow-20.0.0\n",
      "Note: you may need to restart the kernel to use updated packages.\n"
     ]
    }
   ],
   "source": [
    "pip install pyarrow"
   ]
  },
  {
   "cell_type": "code",
   "execution_count": 1,
   "id": "b6c47880",
   "metadata": {},
   "outputs": [],
   "source": [
    "#Import requied libraries\n",
    "from kafka import KafkaConsumer\n",
    "import pandas as pd\n",
    "import s3fs\n",
    "import json\n",
    "from datetime import datetime"
   ]
  },
  {
   "cell_type": "code",
   "execution_count": 2,
   "id": "c5857607",
   "metadata": {},
   "outputs": [],
   "source": [
    "# Kafka consumer config\n",
    "consumer = KafkaConsumer(\n",
    "    'crypto_ticker_stream',\n",
    "    bootstrap_servers=['35.154.244.134:9092'],\n",
    "    value_deserializer=lambda x: json.loads(x.decode('utf-8'))\n",
    ")"
   ]
  },
  {
   "cell_type": "code",
   "execution_count": null,
   "id": "06553066",
   "metadata": {},
   "outputs": [
    {
     "name": "stdout",
     "output_type": "stream",
     "text": [
      "{'symbol': 'BTCUSDT', 'price': 105480.0, 'price_change': 546.66, 'percent_change': 0.521, 'volume': 7354.34034, 'time': '2025-06-08 12:57:55'}\n",
      "{'symbol': 'ETHUSDT', 'price': 2515.4, 'price_change': 23.1, 'percent_change': 0.927, 'volume': 224401.3725, 'time': '2025-06-08 12:57:55'}\n",
      "{'symbol': 'BNBUSDT', 'price': 650.04, 'price_change': 0.84, 'percent_change': 0.129, 'volume': 77403.138, 'time': '2025-06-08 12:57:55'}\n",
      "{'symbol': 'BTCUSDT', 'price': 105479.99, 'price_change': 546.66, 'percent_change': 0.521, 'volume': 7354.34098, 'time': '2025-06-08 12:57:56'}\n",
      "{'symbol': 'ETHUSDT', 'price': 2515.4, 'price_change': 23.1, 'percent_change': 0.927, 'volume': 224401.3814, 'time': '2025-06-08 12:57:56'}\n",
      "{'symbol': 'BTCUSDT', 'price': 105480.0, 'price_change': 546.66, 'percent_change': 0.521, 'volume': 7354.33758, 'time': '2025-06-08 12:57:57'}\n",
      "{'symbol': 'BTCUSDT', 'price': 105469.46, 'price_change': 525.07, 'percent_change': 0.5, 'volume': 7353.27084, 'time': '2025-06-08 12:58:34'}\n",
      "{'symbol': 'ETHUSDT', 'price': 2515.14, 'price_change': 22.54, 'percent_change': 0.904, 'volume': 224459.0029, 'time': '2025-06-08 12:58:34'}\n",
      "{'symbol': 'BNBUSDT', 'price': 649.91, 'price_change': 0.73, 'percent_change': 0.112, 'volume': 77422.323, 'time': '2025-06-08 12:58:34'}\n",
      "{'symbol': 'BTCUSDT', 'price': 105469.45, 'price_change': 525.05, 'percent_change': 0.5, 'volume': 7353.27073, 'time': '2025-06-08 12:58:35'}\n",
      "{'symbol': 'ETHUSDT', 'price': 2515.29, 'price_change': 22.7, 'percent_change': 0.911, 'volume': 224462.7559, 'time': '2025-06-08 12:58:35'}\n",
      "{'symbol': 'BNBUSDT', 'price': 649.9, 'price_change': 0.72, 'percent_change': 0.111, 'volume': 77422.67, 'time': '2025-06-08 12:58:35'}\n",
      "{'symbol': 'BTCUSDT', 'price': 105469.46, 'price_change': 525.06, 'percent_change': 0.5, 'volume': 7353.27139, 'time': '2025-06-08 12:58:36'}\n",
      "{'symbol': 'ETHUSDT', 'price': 2515.3, 'price_change': 22.7, 'percent_change': 0.911, 'volume': 224462.1744, 'time': '2025-06-08 12:58:36'}\n",
      "{'symbol': 'BNBUSDT', 'price': 649.91, 'price_change': 0.73, 'percent_change': 0.112, 'volume': 77422.594, 'time': '2025-06-08 12:58:36'}\n",
      "{'symbol': 'BTCUSDT', 'price': 105469.46, 'price_change': 525.06, 'percent_change': 0.5, 'volume': 7353.27108, 'time': '2025-06-08 12:58:37'}\n"
     ]
    }
   ],
   "source": [
    "for i in consumer:\n",
    "    print(i.value)"
   ]
  },
  {
   "cell_type": "code",
   "execution_count": null,
   "id": "1a6f6394",
   "metadata": {},
   "outputs": [
    {
     "name": "stdout",
     "output_type": "stream",
     "text": [
      "Wrote batch 0 with 5 records to s3://akshay-test1-bucket/crypto_data_parquet/2025/06/08/07/29/batch_0.parquet\n"
     ]
    }
   ],
   "source": [
    "# Loding the data in S3  \n",
    "region = 'ap-south-1'\n",
    "bucket = 'akshay-test1-bucket' \n",
    "base_path = 'crypto_data_parquet'\n",
    "s3 = s3fs.S3FileSystem(client_kwargs={'region_name': region})\n",
    "\n",
    "batch = []\n",
    "batch_size = 5\n",
    "file_count = 0\n",
    "\n",
    "# Writing file in S3\n",
    "def write_parquet(batch_data, file_count):\n",
    "    timestamp_path = datetime.utcnow().strftime('%Y/%m/%d/%H/%M')\n",
    "    file_path = f's3://{bucket}/{base_path}/{timestamp_path}/batch_{file_count}.parquet'\n",
    "    df = pd.DataFrame(batch_data)\n",
    "    df.to_parquet(file_path, index=False, engine='pyarrow', compression='snappy',\n",
    "                  storage_options={'client_kwargs': {'region_name': region}})\n",
    "    print(f\"Wrote batch {file_count} with {len(df)} records to {file_path}\")\n",
    "\n",
    "for message in consumer:\n",
    "    batch.append(message.value)\n",
    "    if len(batch) >= batch_size:\n",
    "        write_parquet(batch, file_count)\n",
    "        batch.clear()\n",
    "        file_count += 1\n"
   ]
  },
  {
   "cell_type": "code",
   "execution_count": null,
   "id": "d7d09da2",
   "metadata": {},
   "outputs": [],
   "source": []
  }
 ],
 "metadata": {
  "kernelspec": {
   "display_name": "Python 3 (ipykernel)",
   "language": "python",
   "name": "python3"
  },
  "language_info": {
   "codemirror_mode": {
    "name": "ipython",
    "version": 3
   },
   "file_extension": ".py",
   "mimetype": "text/x-python",
   "name": "python",
   "nbconvert_exporter": "python",
   "pygments_lexer": "ipython3",
   "version": "3.9.12"
  }
 },
 "nbformat": 4,
 "nbformat_minor": 5
}
