{
 "cells": [
  {
   "cell_type": "code",
   "execution_count": 13,
   "id": "308822e6",
   "metadata": {},
   "outputs": [],
   "source": [
    "#Import requied libraries\n",
    "import websocket\n",
    "import json\n",
    "import time \n",
    "from kafka import KafkaProducer\n",
    "from datetime import datetime"
   ]
  },
  {
   "cell_type": "code",
   "execution_count": 6,
   "id": "e757afea",
   "metadata": {},
   "outputs": [],
   "source": [
    "# Kafka config\n",
    "producer = KafkaProducer(\n",
    "    bootstrap_servers='35.154.244.134:9092',\n",
    "    value_serializer=lambda v: json.dumps(v).encode('utf-8')\n",
    ")\n",
    "topic = 'crypto_ticker_stream'"
   ]
  },
  {
   "cell_type": "code",
   "execution_count": 12,
   "id": "af502cba",
   "metadata": {},
   "outputs": [
    {
     "name": "stdout",
     "output_type": "stream",
     "text": [
      "WebSocket connection opened\n",
      "Sent to Kafka: {'symbol': 'BTCUSDT', 'price': 105453.4, 'price_change': 509.01, 'percent_change': 0.485, 'volume': 7355.34369, 'time': '2025-06-08 12:59:36'}\n",
      "Sent to Kafka: {'symbol': 'ETHUSDT', 'price': 2514.01, 'price_change': 21.91, 'percent_change': 0.879, 'volume': 224374.5985, 'time': '2025-06-08 12:59:36'}\n",
      "Sent to Kafka: {'symbol': 'BNBUSDT', 'price': 649.74, 'price_change': 0.56, 'percent_change': 0.086, 'volume': 77412.383, 'time': '2025-06-08 12:59:36'}\n",
      "Sent to Kafka: {'symbol': 'BTCUSDT', 'price': 105453.4, 'price_change': 509.01, 'percent_change': 0.485, 'volume': 7355.34327, 'time': '2025-06-08 12:59:37'}\n",
      "Sent to Kafka: {'symbol': 'ETHUSDT', 'price': 2514.01, 'price_change': 21.91, 'percent_change': 0.879, 'volume': 224374.7146, 'time': '2025-06-08 12:59:37'}\n",
      "Sent to Kafka: {'symbol': 'BNBUSDT', 'price': 649.74, 'price_change': 0.56, 'percent_change': 0.086, 'volume': 77412.405, 'time': '2025-06-08 12:59:37'}\n",
      "Sent to Kafka: {'symbol': 'BTCUSDT', 'price': 105453.4, 'price_change': 509.01, 'percent_change': 0.485, 'volume': 7355.34387, 'time': '2025-06-08 12:59:38'}\n",
      "Sent to Kafka: {'symbol': 'ETHUSDT', 'price': 2514.01, 'price_change': 21.91, 'percent_change': 0.879, 'volume': 224374.7253, 'time': '2025-06-08 12:59:38'}\n",
      "Error: \n",
      "WebSocket closed\n"
     ]
    },
    {
     "data": {
      "text/plain": [
       "False"
      ]
     },
     "execution_count": 12,
     "metadata": {},
     "output_type": "execute_result"
    }
   ],
   "source": [
    "# Handle messages from Binance WebSocket\n",
    "def on_message(ws, message):\n",
    "    parsed = json.loads(message)\n",
    "    data = parsed['data']\n",
    "\n",
    "    result = {\n",
    "        \"symbol\": data['s'],\n",
    "        \"price\": float(data['c']),\n",
    "        \"price_change\": float(data['p']),\n",
    "        \"percent_change\": float(data['P']),\n",
    "        \"volume\": float(data['v']),\n",
    "        \"time\": datetime.fromtimestamp(data['E'] / 1000).strftime('%Y-%m-%d %H:%M:%S')\n",
    "    }\n",
    "\n",
    "    # Send to Kafka\n",
    "    producer.send(topic, value=result)\n",
    "    print(f\"Sent to Kafka: {result}\")\n",
    "\n",
    "    # Sleep for 3 seconds\n",
    "    time.sleep(3)\n",
    "\n",
    "def on_error(ws, error):\n",
    "    print(\"Error:\", error)\n",
    "\n",
    "def on_close(ws, close_status_code, close_msg):\n",
    "    print(\"WebSocket closed\")\n",
    "\n",
    "def on_open(ws):\n",
    "    print(\"WebSocket connection opened\")\n",
    "\n",
    "# Binance WebSocket URL for multiple symbols\n",
    "symbols = [\"btcusdt\", \"ethusdt\", \"bnbusdt\"]\n",
    "streams = \"/\".join(f\"{sym}@ticker\" for sym in symbols)\n",
    "url = f\"wss://stream.binance.com:9443/stream?streams={streams}\"\n",
    "\n",
    "# Start WebSocket\n",
    "ws = websocket.WebSocketApp(\n",
    "    url,\n",
    "    on_open=on_open,\n",
    "    on_message=on_message,\n",
    "    on_error=on_error,\n",
    "    on_close=on_close\n",
    ")\n",
    "\n",
    "ws.run_forever()\n"
   ]
  },
  {
   "cell_type": "code",
   "execution_count": 11,
   "id": "2e6c2d00",
   "metadata": {},
   "outputs": [],
   "source": [
    "producer.flush()"
   ]
  },
  {
   "cell_type": "code",
   "execution_count": null,
   "id": "25208959",
   "metadata": {},
   "outputs": [],
   "source": []
  },
  {
   "cell_type": "code",
   "execution_count": null,
   "id": "a22d88db",
   "metadata": {},
   "outputs": [],
   "source": []
  },
  {
   "cell_type": "code",
   "execution_count": null,
   "id": "a47df4b5",
   "metadata": {},
   "outputs": [],
   "source": []
  },
  {
   "cell_type": "code",
   "execution_count": null,
   "id": "b36cb040",
   "metadata": {},
   "outputs": [],
   "source": []
  },
  {
   "cell_type": "code",
   "execution_count": null,
   "id": "7da6331f",
   "metadata": {},
   "outputs": [],
   "source": []
  },
  {
   "cell_type": "code",
   "execution_count": null,
   "id": "42f60fdf",
   "metadata": {},
   "outputs": [],
   "source": []
  }
 ],
 "metadata": {
  "kernelspec": {
   "display_name": "Python 3 (ipykernel)",
   "language": "python",
   "name": "python3"
  },
  "language_info": {
   "codemirror_mode": {
    "name": "ipython",
    "version": 3
   },
   "file_extension": ".py",
   "mimetype": "text/x-python",
   "name": "python",
   "nbconvert_exporter": "python",
   "pygments_lexer": "ipython3",
   "version": "3.9.12"
  }
 },
 "nbformat": 4,
 "nbformat_minor": 5
}
